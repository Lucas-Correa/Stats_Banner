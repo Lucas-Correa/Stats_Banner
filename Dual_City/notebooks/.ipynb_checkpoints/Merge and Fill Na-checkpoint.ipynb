{
 "cells": [
  {
   "cell_type": "code",
   "execution_count": 1,
   "id": "05144e25",
   "metadata": {},
   "outputs": [],
   "source": [
    "# General\n",
    "import pandas as pd\n",
    "import numpy as np\n",
    "import datetime\n",
    "import os\n",
    "import glob\n",
    "import sqlite3\n",
    "from math import ceil\n",
    "# Data viz\n",
    "import matplotlib.pyplot as plt\n",
    "import seaborn as sns\n"
   ]
  },
  {
   "cell_type": "markdown",
   "id": "1ee4d33c",
   "metadata": {},
   "source": [
    "# Importing data"
   ]
  },
  {
   "cell_type": "code",
   "execution_count": 2,
   "id": "91f6dff4",
   "metadata": {},
   "outputs": [],
   "source": [
    "df = pd.read_csv('../data/MACIMIDE_Global_Expatriate_Dual_Citizenship_Dataset_V5.00.csv')\n",
    "wdi = pd.read_csv('../data/WDIData.csv',usecols = range(65))"
   ]
  },
  {
   "cell_type": "markdown",
   "id": "97541f6c",
   "metadata": {},
   "source": [
    "# Keeping only the countries"
   ]
  },
  {
   "cell_type": "code",
   "execution_count": 3,
   "id": "6b13e952",
   "metadata": {},
   "outputs": [],
   "source": [
    "cname = wdi.drop_duplicates(subset='Country Name')['Country Name']\n",
    "wdi = wdi.loc[~wdi['Country Name'].isin(cname[:49])]"
   ]
  },
  {
   "cell_type": "markdown",
   "id": "ae927ea5",
   "metadata": {},
   "source": [
    "# Changing world Region and selecting some countries"
   ]
  },
  {
   "cell_type": "code",
   "execution_count": 4,
   "id": "1eabcf93",
   "metadata": {},
   "outputs": [],
   "source": [
    "country_old = df.loc[df.world_region.isna()]['country'].unique()\n",
    "df = df.loc[~df['country'].isin(country_old)]\n",
    "def world_region(x):\n",
    "    if x == 1:\n",
    "        return 'Africa'\n",
    "    elif x == 2:\n",
    "        return 'Asia'\n",
    "    elif x == 3:\n",
    "        return 'Europe'\n",
    "    elif x== 6:\n",
    "        return 'Oceania'\n",
    "    else:\n",
    "        return 'America'    \n",
    "    \n",
    "df['world_region'] = df['world_region'].apply(lambda x:world_region(x) )\n",
    "df = df.query('Year >= 2000 & Year <2020')\n"
   ]
  },
  {
   "cell_type": "code",
   "execution_count": 33,
   "id": "f5cfd038",
   "metadata": {
    "scrolled": true
   },
   "outputs": [
    {
     "data": {
      "text/plain": [
       "25"
      ]
     },
     "execution_count": 33,
     "metadata": {},
     "output_type": "execute_result"
    }
   ],
   "source": [
    "America = [\"United States of America\",'Canada','Mexico','Brazil', 'Colombia','Chile','Argentina']\n",
    "Europe = ['Italy', 'Germany', 'Denmark', 'Poland', 'United Kingdom (of Great Britain and Northern Ireland)','France','Netherlands']\n",
    "Extreme_Orient = ['China',  'Thailand', 'Australia', 'India',  'Azerbaijan','Japan']\n",
    "Africa = ['South Africa', 'Djibouti', 'Morocco', 'Nigeria', 'Botswana']\n",
    "Countries = [c for i in (America,Europe,Africa,Extreme_Orient) for c in i]\n",
    "\n",
    "df_country = df.copy()\n",
    "df_country = df.loc[df['country'].isin((Countries))]\n",
    "len(df_country['country'].unique())"
   ]
  },
  {
   "cell_type": "code",
   "execution_count": 44,
   "id": "17a34ea6",
   "metadata": {
    "scrolled": false
   },
   "outputs": [],
   "source": [
    "Indicator_names = np.mean(1 -wdi.groupby('Indicator Name').count().iloc[:,43:-1]/217,axis =1)\n",
    "Indicator_little_nan = Indicator_names[Indicator_names<.20].index\n",
    "Indicator_little_nan"
   ]
  },
  {
   "cell_type": "markdown",
   "id": "bd45778d",
   "metadata": {},
   "source": [
    "# Merging the tables"
   ]
  },
  {
   "cell_type": "code",
   "execution_count": 238,
   "id": "b84f7b05",
   "metadata": {},
   "outputs": [],
   "source": [
    "def merge_tables(df,indicator_name):\n",
    "    \n",
    "    wdi_indicator = wdi.loc[wdi['Indicator Name']==indicator_name].set_index('Country Code').T.iloc[3:-1,:].reset_index()\n",
    "    wdi_indicator['index'] = wdi_indicator['index'].astype(int)\n",
    "    wdi_indicator = wdi_indicator.loc[wdi_indicator['index']>=2000]\n",
    "    \n",
    "    year = np.array([])\n",
    "    ISOCODE = np.array([])\n",
    "    value =  np.array([])\n",
    "    \n",
    "    for ISO in wdi_indicator.columns[1:-1]:\n",
    "        ISOCODE_ = np.full((len(wdi_indicator),),ISO)\n",
    "        ISOCODE = np.append(ISOCODE,ISOCODE_)\n",
    "        \n",
    "        year = np.append(year,wdi_indicator['index'].values)\n",
    "        value = np.append(value,wdi_indicator[ISO].values)\n",
    "\n",
    "        \n",
    "    ISOCODE_SER = pd.Series(ISOCODE)\n",
    "    year_ser = pd.Series(year)\n",
    "    value = pd.Series(value).astype(float)\n",
    "    final_wdi = pd.DataFrame([ISOCODE_SER,year_ser,value]).T.rename(columns={0:'ISO3',1:'Year',2:indicator_name})\n",
    "    final_wdi['Year'] = final_wdi['Year'].astype(int)\n",
    "    df_merge = df.merge(final_wdi, right_on=['ISO3','Year'],left_on = ['ISO3','Year'] )\n",
    "    return   df_merge\n",
    "    "
   ]
  },
  {
   "cell_type": "code",
   "execution_count": 239,
   "id": "c920e168",
   "metadata": {},
   "outputs": [],
   "source": [
    "#create a list of indicators names to merge with the dual cit base\n",
    "\n",
    "df_merge = df.copy()\n",
    "for ind in indi_to_use:\n",
    "    df_merge = merge_tables(df_merge,str(ind))"
   ]
  }
 ],
 "metadata": {
  "kernelspec": {
   "display_name": "Python 3",
   "language": "python",
   "name": "python3"
  },
  "language_info": {
   "codemirror_mode": {
    "name": "ipython",
    "version": 3
   },
   "file_extension": ".py",
   "mimetype": "text/x-python",
   "name": "python",
   "nbconvert_exporter": "python",
   "pygments_lexer": "ipython3",
   "version": "3.8.8"
  }
 },
 "nbformat": 4,
 "nbformat_minor": 5
}
