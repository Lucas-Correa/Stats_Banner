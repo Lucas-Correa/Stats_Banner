{
 "cells": [
  {
   "cell_type": "code",
   "execution_count": 1,
   "id": "05144e25",
   "metadata": {},
   "outputs": [],
   "source": [
    "# General\n",
    "import pandas as pd\n",
    "import numpy as np\n",
    "import datetime\n",
    "import os\n",
    "import glob\n",
    "import sqlite3\n",
    "# Data viz\n",
    "import matplotlib.pyplot as plt\n",
    "import seaborn as sns"
   ]
  },
  {
   "cell_type": "code",
   "execution_count": 2,
   "id": "91f6dff4",
   "metadata": {},
   "outputs": [],
   "source": [
    "df = pd.read_csv('../data/MACIMIDE_Global_Expatriate_Dual_Citizenship_Dataset_V5.00.csv')\n",
    "wdi = pd.read_csv('../data/WDIData.csv',usecols = range(65))"
   ]
  },
  {
   "cell_type": "code",
   "execution_count": 3,
   "id": "3d0d98be",
   "metadata": {},
   "outputs": [
    {
     "data": {
      "text/plain": [
       "1443"
      ]
     },
     "execution_count": 3,
     "metadata": {},
     "output_type": "execute_result"
    }
   ],
   "source": [
    "len(wdi['Indicator Name'].unique())"
   ]
  },
  {
   "cell_type": "code",
   "execution_count": 4,
   "id": "6b13e952",
   "metadata": {},
   "outputs": [],
   "source": [
    "cname = wdi.drop_duplicates(subset='Country Name')['Country Name']\n",
    "wdi = wdi.loc[~wdi['Country Name'].isin(cname[:49])]"
   ]
  },
  {
   "cell_type": "code",
   "execution_count": 5,
   "id": "1eabcf93",
   "metadata": {},
   "outputs": [],
   "source": [
    "country_old = df.loc[df.world_region.isna()]['country'].unique()\n",
    "df = df.loc[~df['country'].isin(country_old)]\n",
    "def world_region(x):\n",
    "    if x == 1:\n",
    "        return 'Africa'\n",
    "    elif x == 2:\n",
    "        return 'Asia'\n",
    "    elif x == 3:\n",
    "        return 'Europe'\n",
    "    elif x== 6:\n",
    "        return 'Oceania'\n",
    "    else:\n",
    "        return 'America'    \n",
    "    \n",
    "df['world_region'] = df['world_region'].apply(lambda x:world_region(x) )\n",
    "df = df.query('Year >= 2000 & Year <2020')\n"
   ]
  },
  {
   "cell_type": "code",
   "execution_count": 6,
   "id": "9ee73ef3",
   "metadata": {},
   "outputs": [
    {
     "data": {
      "image/png": "[encoded data removed]",
      "text/plain": [
       "<Figure size 864x720 with 5 Axes>"
      ]
     },
     "metadata": {
      "needs_background": "light"
     },
     "output_type": "display_data"
    }
   ],
   "source": [
    "df_year = df.query('Year >=2012 & Year<=2018')\n",
    "\n",
    "g = sns.FacetGrid(df_year,col='world_region',col_wrap = 3,legend_out=True)\n",
    "g = (g.map_dataframe(sns.countplot,x='Year',hue='Dualcit_grouped', palette =sns.color_palette(\"Set2\", 3) ).add_legend())\n",
    "g.fig.set_figwidth(12)\n",
    "g.fig.set_figheight(10)\n",
    "plt.show()\n",
    "\n"
   ]
  },
  {
   "cell_type": "code",
   "execution_count": 7,
   "id": "be6664ee",
   "metadata": {
    "scrolled": true
   },
   "outputs": [],
   "source": [
    "def boxplot(year,indicator_code):\n",
    "   \n",
    "    df_year = df.loc[df['Year']==year]\n",
    "    wdi_year = wdi[['Country Code','Indicator Code','Indicator Name',str(year),'Country Name']].loc[wdi['Indicator Code'] == indicator_code]\n",
    "    df_year = df_year.merge(wdi_year, right_on='Country Code',left_on = 'ISO3' )\n",
    "    \n",
    "    fig,ax= plt.subplots(1,2,figsize=(15,5))\n",
    "    box1 = sns.boxplot(data=df_year,x='Dualcit_binary',y=(df_year[str(year)]),ax = ax[0])\n",
    "    box2 = sns.boxplot(data=df_year,x='Dualcit_grouped',y=(df_year[str(year)]),ax = ax[1])\n",
    "    fig.suptitle((df_year['Indicator Name'].unique()))\n",
    "    box1.set_ylabel('')\n",
    "    #ax.set_xticklabels(['Automatic Loss','No Automatic Loss'])\n",
    "    return "
   ]
  },
  {
   "cell_type": "code",
   "execution_count": 8,
   "id": "122bc31c",
   "metadata": {
    "scrolled": false
   },
   "outputs": [
    {
     "data": {
      "text/html": [
       "<div>\n",
       "<style scoped>\n",
       "    .dataframe tbody tr th:only-of-type {\n",
       "        vertical-align: middle;\n",
       "    }\n",
       "\n",
       "    .dataframe tbody tr th {\n",
       "        vertical-align: top;\n",
       "    }\n",
       "\n",
       "    .dataframe thead th {\n",
       "        text-align: right;\n",
       "    }\n",
       "</style>\n",
       "<table border=\"1\" class=\"dataframe\">\n",
       "  <thead>\n",
       "    <tr style=\"text-align: right;\">\n",
       "      <th></th>\n",
       "      <th>Indicator Name</th>\n",
       "    </tr>\n",
       "    <tr>\n",
       "      <th>Indicator Code</th>\n",
       "      <th></th>\n",
       "    </tr>\n",
       "  </thead>\n",
       "  <tbody>\n",
       "    <tr>\n",
       "      <th>IQ.CPA.PROP.XQ</th>\n",
       "      <td>CPIA property rights and rule-based governance rating (1=low to 6=high)</td>\n",
       "    </tr>\n",
       "    <tr>\n",
       "      <th>IC.LGL.CRED.XQ</th>\n",
       "      <td>Strength of legal rights index (0=weak to 12=strong)</td>\n",
       "    </tr>\n",
       "  </tbody>\n",
       "</table>\n",
       "</div>"
      ],
      "text/plain": [
       "                                                                         Indicator Name\n",
       "Indicator Code                                                                         \n",
       "IQ.CPA.PROP.XQ  CPIA property rights and rule-based governance rating (1=low to 6=high)\n",
       "IC.LGL.CRED.XQ                     Strength of legal rights index (0=weak to 12=strong)"
      ]
     },
     "execution_count": 8,
     "metadata": {},
     "output_type": "execute_result"
    }
   ],
   "source": [
    "indicators = wdi[['Indicator Code','Indicator Name']].set_index('Indicator Code').drop_duplicates()\n",
    "pd.options.display.max_colwidth = 200\n",
    "indicators.loc[indicators['Indicator Name'].str.contains('rights')]\n",
    "#indicators to look SG.VAW.REFU.ZS - SI.POV.GINI - SP.POP.TECH.RD.P6 - per_allsp.adq_pop_tot\n",
    "                    #- per_allsp.ben_q1_tot - SL.TLF.CACT.FM.NE.ZS\n",
    "#maybe SE.TER.CUAT.DO.FE.ZS  - per_allsp.cov_pop_tot - SL.TLF.TOTL.FE.ZS -  SL.UEM.1524.NE.ZS         "
   ]
  },
  {
   "cell_type": "code",
   "execution_count": 9,
   "id": "2ad00e5e",
   "metadata": {
    "scrolled": false
   },
   "outputs": [
    {
     "data": {
      "image/png": "[encoded data removed]",
      "text/plain": [
       "<Figure size 1080x360 with 2 Axes>"
      ]
     },
     "metadata": {
      "needs_background": "light"
     },
     "output_type": "display_data"
    }
   ],
   "source": [
    "boxplot(2014,'IC.LGL.CRED.XQ')"
   ]
  },
  {
   "cell_type": "code",
   "execution_count": 17,
   "id": "ce430e80",
   "metadata": {},
   "outputs": [],
   "source": [
    "America = [\"nited States of America\",'Canada','Mexico','Brazil', 'Colombia']\n",
    "Europe = ['Italy', 'Germany', 'Denmark', 'Poland', 'United Kingdom (of Great Britain and Northern Ireland)']\n",
    "Orient = ['China',  'Thailand', 'Australia', 'India',  'Azerbaijan']\n",
    "Africa = ['South Africa', 'Djibouti', 'Morocco', 'Nigeria', 'Botswana']"
   ]
  },
  {
   "cell_type": "code",
   "execution_count": 16,
   "id": "6daa2c5f",
   "metadata": {},
   "outputs": [
    {
     "data": {
      "text/plain": [
       "array(['Zimbabwe', 'Zambia', 'Uganda', 'Tunisia', 'Togo', 'Tanzania',\n",
       "       'Swaziland', 'Sudan', 'South Sudan', 'South Africa', 'Somalia',\n",
       "       'Sierra Leone', 'Seychelles', 'Senegal', 'Sao Tome and Principe',\n",
       "       'Rwanda', 'Nigeria', 'Niger', 'Namibia', 'Mozambique', 'Morocco',\n",
       "       'Mauritius', 'Mauritania', 'Mali', 'Malawi', 'Madagascar', 'Libya',\n",
       "       'Liberia', 'Lesotho', 'Kenya', 'Guinea-Bissau', 'Guinea', 'Ghana',\n",
       "       'Gambia', 'Gabon', 'Ethiopia', 'Eritrea', 'Equatorial Guinea',\n",
       "       'Egypt', 'Djibouti', 'Cote dIvoire', 'Congo, Republic of the',\n",
       "       'Congo, Democratic Republic of the', 'Comoros', 'Chad',\n",
       "       'Central African Republic', 'Cape Verde', 'Cameroon', 'Burundi',\n",
       "       'Burkina Faso', 'Botswana', 'Benin', 'Angola', 'Algeria'],\n",
       "      dtype=object)"
      ]
     },
     "execution_count": 16,
     "metadata": {},
     "output_type": "execute_result"
    }
   ],
   "source": [
    "df.loc[df['world_region']=='Africa']['country'].unique()"
   ]
  },
  {
   "cell_type": "code",
   "execution_count": null,
   "id": "8067cbd9",
   "metadata": {},
   "outputs": [],
   "source": []
  }
 ],
 "metadata": {
  "kernelspec": {
   "display_name": "Python 3",
   "language": "python",
   "name": "python3"
  },
  "language_info": {
   "codemirror_mode": {
    "name": "ipython",
    "version": 3
   },
   "file_extension": ".py",
   "mimetype": "text/x-python",
   "name": "python",
   "nbconvert_exporter": "python",
   "pygments_lexer": "ipython3",
   "version": "3.8.8"
  }
 },
 "nbformat": 4,
 "nbformat_minor": 5
}
